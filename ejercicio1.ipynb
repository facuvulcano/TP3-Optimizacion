{
 "cells": [
  {
   "cell_type": "code",
   "execution_count": 29,
   "metadata": {},
   "outputs": [],
   "source": [
    "import numpy as np\n",
    "import matplotlib.pyplot as plt\n",
    "import zipfile\n",
    "from PIL import Image\n",
    "image_files = ['img00.jpeg', 'img01.jpeg', 'img02.jpeg', 'img03.jpeg', 'img04.jpeg', 'img05.jpeg', 'img06.jpeg', 'img07.jpeg', 'img08.jpeg', 'img09.jpeg', 'img10.jpeg', 'img11.jpeg', 'img12.jpeg', 'img13.jpeg', 'img14.jpeg', 'img15.jpeg']  # Agrega aquí los nombres de los archivos de imagen\n",
    "\n",
    "images = []\n",
    "for file in image_files:\n",
    "    img = Image.open(file)\n",
    "    img = img.resize((28, 28))  # Reemplaza p con el tamaño deseado para las imágenes\n",
    "    img_array = np.asarray(img)\n",
    "    images.append(img_array)\n",
    "\n",
    "data_matrix = np.stack(images).reshape(len(images), -1)\n",
    "\n"
   ]
  },
  {
   "cell_type": "code",
   "execution_count": 30,
   "metadata": {},
   "outputs": [
    {
     "name": "stdout",
     "output_type": "stream",
     "text": [
      "Tamaño de U: (16, 16)\n",
      "Tamaño de Vt: (16, 784)\n"
     ]
    }
   ],
   "source": [
    "U, S, Vt = np.linalg.svd(data_matrix, full_matrices=False)\n",
    "print(\"Tamaño de U:\", U.shape)\n",
    "print(\"Tamaño de Vt:\", Vt.shape)"
   ]
  },
  {
   "cell_type": "code",
   "execution_count": 41,
   "metadata": {},
   "outputs": [
    {
     "ename": "ValueError",
     "evalue": "cannot reshape array of size 16 into shape (28,28)",
     "output_type": "error",
     "traceback": [
      "\u001b[1;31m---------------------------------------------------------------------------\u001b[0m",
      "\u001b[1;31mValueError\u001b[0m                                Traceback (most recent call last)",
      "\u001b[1;32mc:\\Users\\Facu\\TP3_Optimizacion\\ej1b.ipynb Cell 3\u001b[0m in \u001b[0;36m<cell line: 6>\u001b[1;34m()\u001b[0m\n\u001b[0;32m      <a href='vscode-notebook-cell:/c%3A/Users/Facu/TP3_Optimizacion/ej1b.ipynb#W2sZmlsZQ%3D%3D?line=3'>4</a>\u001b[0m fig, axes \u001b[39m=\u001b[39m plt\u001b[39m.\u001b[39msubplots(\u001b[39m2\u001b[39m, num_dimensions, figsize\u001b[39m=\u001b[39m(\u001b[39m16\u001b[39m, \u001b[39m10\u001b[39m))\n\u001b[0;32m      <a href='vscode-notebook-cell:/c%3A/Users/Facu/TP3_Optimizacion/ej1b.ipynb#W2sZmlsZQ%3D%3D?line=5'>6</a>\u001b[0m \u001b[39mfor\u001b[39;00m i \u001b[39min\u001b[39;00m \u001b[39mrange\u001b[39m(num_dimensions):\n\u001b[1;32m----> <a href='vscode-notebook-cell:/c%3A/Users/Facu/TP3_Optimizacion/ej1b.ipynb#W2sZmlsZQ%3D%3D?line=6'>7</a>\u001b[0m     axes[\u001b[39m0\u001b[39m, i]\u001b[39m.\u001b[39mimshow(U[:, i]\u001b[39m.\u001b[39;49mreshape(\u001b[39m28\u001b[39;49m, \u001b[39m28\u001b[39;49m), cmap\u001b[39m=\u001b[39m\u001b[39m'\u001b[39m\u001b[39mgray\u001b[39m\u001b[39m'\u001b[39m)\n\u001b[0;32m      <a href='vscode-notebook-cell:/c%3A/Users/Facu/TP3_Optimizacion/ej1b.ipynb#W2sZmlsZQ%3D%3D?line=7'>8</a>\u001b[0m     axes[\u001b[39m0\u001b[39m, i]\u001b[39m.\u001b[39maxis(\u001b[39m'\u001b[39m\u001b[39moff\u001b[39m\u001b[39m'\u001b[39m)\n\u001b[0;32m      <a href='vscode-notebook-cell:/c%3A/Users/Facu/TP3_Optimizacion/ej1b.ipynb#W2sZmlsZQ%3D%3D?line=8'>9</a>\u001b[0m     axes[\u001b[39m1\u001b[39m, i]\u001b[39m.\u001b[39mimshow(Vt[i, :]\u001b[39m.\u001b[39mreshape(\u001b[39m28\u001b[39m, \u001b[39m28\u001b[39m), cmap\u001b[39m=\u001b[39m\u001b[39m'\u001b[39m\u001b[39mgray\u001b[39m\u001b[39m'\u001b[39m)\n",
      "\u001b[1;31mValueError\u001b[0m: cannot reshape array of size 16 into shape (28,28)"
     ]
    },
    {
     "data": {
      "image/png": "[encoded data removed]",
      "text/plain": [
       "<Figure size 1152x720 with 50 Axes>"
      ]
     },
     "metadata": {
      "needs_background": "light"
     },
     "output_type": "display_data"
    }
   ],
   "source": [
    "num_dimensions = 25  # Número de dimensiones a visualizar\n",
    "\n",
    "\n",
    "fig, axes = plt.subplots(2, num_dimensions, figsize=(16, 10))\n",
    "\n",
    "for i in range(num_dimensions):\n",
    "    axes[0, i].imshow(U[:, i].reshape(28, 28), cmap='gray')\n",
    "    axes[0, i].axis('off')\n",
    "    axes[1, i].imshow(Vt[i, :].reshape(28, 28), cmap='gray')\n",
    "    axes[1, i].axis('off')\n",
    "\n",
    "plt.tight_layout()\n",
    "plt.show()\n"
   ]
  },
  {
   "cell_type": "code",
   "execution_count": 33,
   "metadata": {},
   "outputs": [
    {
     "name": "stdout",
     "output_type": "stream",
     "text": [
      "Número mínimo de dimensiones: 13\n",
      "Error de compresión: 0.04973477903170658\n"
     ]
    }
   ],
   "source": [
    "image_index = 0  # Índice de la imagen a comprimir\n",
    "original_image = data_matrix[image_index, :]\n",
    "\n",
    "error_threshold = 0.05  # Error máximo permitido (5%)\n",
    "error = np.inf\n",
    "d = 0\n",
    "\n",
    "while error > error_threshold:\n",
    "    d += 1\n",
    "    compressed_image = U[image_index, :d] @ np.diag(S[:d]) @ Vt[:d, :]\n",
    "    error = np.linalg.norm(original_image - compressed_image) / np.linalg.norm(original_image)\n",
    "\n",
    "print(\"Número mínimo de dimensiones:\", d)\n",
    "print(\"Error de compresión:\", error)\n"
   ]
  },
  {
   "cell_type": "code",
   "execution_count": 20,
   "metadata": {},
   "outputs": [
    {
     "name": "stdout",
     "output_type": "stream",
     "text": [
      "Tamaño de la imagen: 28 x 28\n"
     ]
    }
   ],
   "source": [
    "img = Image.open('img00.jpeg')  # Reemplaza 'image1.jpg' con el nombre de tu imagen\n",
    "width, height = img.size\n",
    "print(\"Tamaño de la imagen:\", width, \"x\", height)\n"
   ]
  }
 ],
 "metadata": {
  "language_info": {
   "name": "python"
  },
  "orig_nbformat": 4
 },
 "nbformat": 4,
 "nbformat_minor": 2
}
